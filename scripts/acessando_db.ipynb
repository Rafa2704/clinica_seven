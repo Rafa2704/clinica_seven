{
 "cells": [
  {
   "cell_type": "code",
   "execution_count": 3,
   "id": "6e2c156a",
   "metadata": {},
   "outputs": [
    {
     "data": {
      "text/html": [
       "<div>\n",
       "<style scoped>\n",
       "    .dataframe tbody tr th:only-of-type {\n",
       "        vertical-align: middle;\n",
       "    }\n",
       "\n",
       "    .dataframe tbody tr th {\n",
       "        vertical-align: top;\n",
       "    }\n",
       "\n",
       "    .dataframe thead th {\n",
       "        text-align: right;\n",
       "    }\n",
       "</style>\n",
       "<table border=\"1\" class=\"dataframe\">\n",
       "  <thead>\n",
       "    <tr style=\"text-align: right;\">\n",
       "      <th></th>\n",
       "      <th>user_id</th>\n",
       "      <th>cpf</th>\n",
       "      <th>e-mail</th>\n",
       "      <th>entry_date</th>\n",
       "      <th>entry_time</th>\n",
       "      <th>name</th>\n",
       "      <th>update_date</th>\n",
       "    </tr>\n",
       "  </thead>\n",
       "  <tbody>\n",
       "    <tr>\n",
       "      <th>0</th>\n",
       "      <td>user_10</td>\n",
       "      <td>89333325563</td>\n",
       "      <td>cliente10@exemplo.com</td>\n",
       "      <td>2023-11-03</td>\n",
       "      <td>03:10:00</td>\n",
       "      <td>Cliente 10</td>\n",
       "      <td>2023-05-23</td>\n",
       "    </tr>\n",
       "    <tr>\n",
       "      <th>1</th>\n",
       "      <td>user_100</td>\n",
       "      <td>80858959841</td>\n",
       "      <td>cliente100@exemplo.com</td>\n",
       "      <td>2023-04-18</td>\n",
       "      <td>03:59:25</td>\n",
       "      <td>Cliente 100</td>\n",
       "      <td>2023-01-08</td>\n",
       "    </tr>\n",
       "    <tr>\n",
       "      <th>2</th>\n",
       "      <td>user_1000</td>\n",
       "      <td>25178732742</td>\n",
       "      <td>cliente1000@exemplo.com</td>\n",
       "      <td>2023-07-31</td>\n",
       "      <td>22:16:47</td>\n",
       "      <td>Cliente 1000</td>\n",
       "      <td>2023-05-24</td>\n",
       "    </tr>\n",
       "    <tr>\n",
       "      <th>3</th>\n",
       "      <td>user_101</td>\n",
       "      <td>46762409450</td>\n",
       "      <td>cliente101@exemplo.com</td>\n",
       "      <td>2023-04-14</td>\n",
       "      <td>09:22:00</td>\n",
       "      <td>Cliente 101</td>\n",
       "      <td>2023-02-20</td>\n",
       "    </tr>\n",
       "    <tr>\n",
       "      <th>4</th>\n",
       "      <td>user_102</td>\n",
       "      <td>25473014829</td>\n",
       "      <td>cliente102@exemplo.com</td>\n",
       "      <td>2023-10-21</td>\n",
       "      <td>02:38:00</td>\n",
       "      <td>Cliente 102</td>\n",
       "      <td>2023-02-07</td>\n",
       "    </tr>\n",
       "  </tbody>\n",
       "</table>\n",
       "</div>"
      ],
      "text/plain": [
       "     user_id          cpf                   e-mail  entry_date entry_time  \\\n",
       "0    user_10  89333325563    cliente10@exemplo.com  2023-11-03   03:10:00   \n",
       "1   user_100  80858959841   cliente100@exemplo.com  2023-04-18   03:59:25   \n",
       "2  user_1000  25178732742  cliente1000@exemplo.com  2023-07-31   22:16:47   \n",
       "3   user_101  46762409450   cliente101@exemplo.com  2023-04-14   09:22:00   \n",
       "4   user_102  25473014829   cliente102@exemplo.com  2023-10-21   02:38:00   \n",
       "\n",
       "           name update_date  \n",
       "0    Cliente 10  2023-05-23  \n",
       "1   Cliente 100  2023-01-08  \n",
       "2  Cliente 1000  2023-05-24  \n",
       "3   Cliente 101  2023-02-20  \n",
       "4   Cliente 102  2023-02-07  "
      ]
     },
     "metadata": {},
     "output_type": "display_data"
    }
   ],
   "source": [
    "import pandas as pd\n",
    "import sqlite3\n",
    "\n",
    "con = sqlite3.connect('dados.db')\n",
    "df = pd.read_sql('SELECT * FROM dim_usuarios LIMIT 5', con)\n",
    "display(df)\n",
    "con.close()\n"
   ]
  },
  {
   "cell_type": "code",
   "execution_count": 8,
   "id": "94bfa651",
   "metadata": {},
   "outputs": [
    {
     "name": "stdout",
     "output_type": "stream",
     "text": [
      "View 'total_pedidos_por_mes' criada com sucesso.\n"
     ]
    }
   ],
   "source": [
    "#✅ 1. Total de pedidos por mês\n",
    "import sqlite3\n",
    "\n",
    "# Conectar ao banco\n",
    "con = sqlite3.connect('dados.db')\n",
    "cur = con.cursor()\n",
    "\n",
    "# Criar view corretamente\n",
    "cur.execute(\"\"\"\n",
    "    CREATE VIEW IF NOT EXISTS total_pedidos_por_mes AS\n",
    "    SELECT \n",
    "        strftime('%Y-%m', created_at) AS mes,\n",
    "        COUNT(DISTINCT order_id) AS total_pedidos\n",
    "    FROM fato_pedidos\n",
    "    GROUP BY mes;\n",
    "\"\"\")\n",
    "\n",
    "# Confirmar e fechar\n",
    "con.commit()\n",
    "con.close()\n",
    "\n",
    "print(\"View 'total_pedidos_por_mes' criada com sucesso.\")\n"
   ]
  },
  {
   "cell_type": "code",
   "execution_count": null,
   "id": "de3c571f",
   "metadata": {},
   "outputs": [],
   "source": []
  }
 ],
 "metadata": {
  "kernelspec": {
   "display_name": "base",
   "language": "python",
   "name": "python3"
  },
  "language_info": {
   "codemirror_mode": {
    "name": "ipython",
    "version": 3
   },
   "file_extension": ".py",
   "mimetype": "text/x-python",
   "name": "python",
   "nbconvert_exporter": "python",
   "pygments_lexer": "ipython3",
   "version": "3.9.13"
  }
 },
 "nbformat": 4,
 "nbformat_minor": 5
}
