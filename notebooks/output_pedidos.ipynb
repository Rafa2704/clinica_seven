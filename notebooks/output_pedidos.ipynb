{
 "cells": [
  {
   "cell_type": "markdown",
   "id": "04e9e196",
   "metadata": {
    "tags": [
     "papermill-error-cell-tag"
    ]
   },
   "source": [
    "<span style=\"color:red; font-family:Helvetica Neue, Helvetica, Arial, sans-serif; font-size:2em;\">An Exception was encountered at '<a href=\"#papermill-error-cell\">In [13]</a>'.</span>"
   ]
  },
  {
   "cell_type": "code",
   "execution_count": 1,
   "id": "fe101974",
   "metadata": {
    "execution": {
     "iopub.execute_input": "2025-05-19T22:01:30.137741Z",
     "iopub.status.busy": "2025-05-19T22:01:30.137741Z",
     "iopub.status.idle": "2025-05-19T22:01:30.820120Z",
     "shell.execute_reply": "2025-05-19T22:01:30.820120Z"
    },
    "papermill": {
     "duration": 0.695615,
     "end_time": "2025-05-19T22:01:30.823360",
     "exception": false,
     "start_time": "2025-05-19T22:01:30.127745",
     "status": "completed"
    },
    "tags": []
   },
   "outputs": [
    {
     "data": {
      "text/html": [
       "<div>\n",
       "<style scoped>\n",
       "    .dataframe tbody tr th:only-of-type {\n",
       "        vertical-align: middle;\n",
       "    }\n",
       "\n",
       "    .dataframe tbody tr th {\n",
       "        vertical-align: top;\n",
       "    }\n",
       "\n",
       "    .dataframe thead th {\n",
       "        text-align: right;\n",
       "    }\n",
       "</style>\n",
       "<table border=\"1\" class=\"dataframe\">\n",
       "  <thead>\n",
       "    <tr style=\"text-align: right;\">\n",
       "      <th></th>\n",
       "      <th>order_id</th>\n",
       "      <th>var_name</th>\n",
       "      <th>var_value</th>\n",
       "    </tr>\n",
       "  </thead>\n",
       "  <tbody>\n",
       "    <tr>\n",
       "      <th>0</th>\n",
       "      <td>order_1</td>\n",
       "      <td>user_id</td>\n",
       "      <td>user_270</td>\n",
       "    </tr>\n",
       "    <tr>\n",
       "      <th>1</th>\n",
       "      <td>order_1</td>\n",
       "      <td>created_at</td>\n",
       "      <td>2023-09-09</td>\n",
       "    </tr>\n",
       "    <tr>\n",
       "      <th>2</th>\n",
       "      <td>order_1</td>\n",
       "      <td>items</td>\n",
       "      <td>[{'product_id': 'prod_77', 'quantity': 3}, {'p...</td>\n",
       "    </tr>\n",
       "    <tr>\n",
       "      <th>3</th>\n",
       "      <td>order_1</td>\n",
       "      <td>total</td>\n",
       "      <td>R$ 2,393,37</td>\n",
       "    </tr>\n",
       "    <tr>\n",
       "      <th>4</th>\n",
       "      <td>order_1</td>\n",
       "      <td>payment_status</td>\n",
       "      <td>pago</td>\n",
       "    </tr>\n",
       "    <tr>\n",
       "      <th>...</th>\n",
       "      <td>...</td>\n",
       "      <td>...</td>\n",
       "      <td>...</td>\n",
       "    </tr>\n",
       "    <tr>\n",
       "      <th>2695</th>\n",
       "      <td>order_300</td>\n",
       "      <td>payment_status</td>\n",
       "      <td>não pago</td>\n",
       "    </tr>\n",
       "    <tr>\n",
       "      <th>2696</th>\n",
       "      <td>order_300</td>\n",
       "      <td>payment_method</td>\n",
       "      <td>NaN</td>\n",
       "    </tr>\n",
       "    <tr>\n",
       "      <th>2697</th>\n",
       "      <td>order_300</td>\n",
       "      <td>payment_date</td>\n",
       "      <td>NaN</td>\n",
       "    </tr>\n",
       "    <tr>\n",
       "      <th>2698</th>\n",
       "      <td>order_300</td>\n",
       "      <td>shipping_status</td>\n",
       "      <td>enviado</td>\n",
       "    </tr>\n",
       "    <tr>\n",
       "      <th>2699</th>\n",
       "      <td>order_300</td>\n",
       "      <td>shipping_status_date</td>\n",
       "      <td>07-02-2023</td>\n",
       "    </tr>\n",
       "  </tbody>\n",
       "</table>\n",
       "<p>2700 rows × 3 columns</p>\n",
       "</div>"
      ],
      "text/plain": [
       "       order_id              var_name  \\\n",
       "0       order_1               user_id   \n",
       "1       order_1            created_at   \n",
       "2       order_1                 items   \n",
       "3       order_1                 total   \n",
       "4       order_1        payment_status   \n",
       "...         ...                   ...   \n",
       "2695  order_300        payment_status   \n",
       "2696  order_300        payment_method   \n",
       "2697  order_300          payment_date   \n",
       "2698  order_300       shipping_status   \n",
       "2699  order_300  shipping_status_date   \n",
       "\n",
       "                                              var_value  \n",
       "0                                              user_270  \n",
       "1                                            2023-09-09  \n",
       "2     [{'product_id': 'prod_77', 'quantity': 3}, {'p...  \n",
       "3                                           R$ 2,393,37  \n",
       "4                                                  pago  \n",
       "...                                                 ...  \n",
       "2695                                           não pago  \n",
       "2696                                                NaN  \n",
       "2697                                                NaN  \n",
       "2698                                            enviado  \n",
       "2699                                         07-02-2023  \n",
       "\n",
       "[2700 rows x 3 columns]"
      ]
     },
     "execution_count": 1,
     "metadata": {},
     "output_type": "execute_result"
    }
   ],
   "source": [
    "import pandas as pd\n",
    "\n",
    "# Caminho do arquivo CSV\n",
    "caminho_arquivo = r\"C:\\Users\\rafae\\Desktop\\clinica_sevem\\Data_Lake\\orders_raw.csv\"\n",
    "\n",
    "# Leitura do arquivo CSV\n",
    "df = pd.read_csv(caminho_arquivo)\n",
    "\n",
    "df\n"
   ]
  },
  {
   "cell_type": "code",
   "execution_count": 2,
   "id": "2af195c9",
   "metadata": {
    "execution": {
     "iopub.execute_input": "2025-05-19T22:01:30.836555Z",
     "iopub.status.busy": "2025-05-19T22:01:30.836555Z",
     "iopub.status.idle": "2025-05-19T22:01:30.852056Z",
     "shell.execute_reply": "2025-05-19T22:01:30.852056Z"
    },
    "papermill": {
     "duration": 0.022253,
     "end_time": "2025-05-19T22:01:30.852056",
     "exception": false,
     "start_time": "2025-05-19T22:01:30.829803",
     "status": "completed"
    },
    "tags": []
   },
   "outputs": [
    {
     "name": "stdout",
     "output_type": "stream",
     "text": [
      "['user_id' 'created_at' 'items' 'total' 'payment_status' 'payment_method'\n",
      " 'payment_date' 'shipping_status' 'shipping_status_date']\n"
     ]
    }
   ],
   "source": [
    "print(df['var_name'].unique())\n"
   ]
  },
  {
   "cell_type": "code",
   "execution_count": 3,
   "id": "26bfc086",
   "metadata": {
    "execution": {
     "iopub.execute_input": "2025-05-19T22:01:30.868157Z",
     "iopub.status.busy": "2025-05-19T22:01:30.868157Z",
     "iopub.status.idle": "2025-05-19T22:01:30.883795Z",
     "shell.execute_reply": "2025-05-19T22:01:30.883795Z"
    },
    "papermill": {
     "duration": 0.024153,
     "end_time": "2025-05-19T22:01:30.885802",
     "exception": false,
     "start_time": "2025-05-19T22:01:30.861649",
     "status": "completed"
    },
    "tags": []
   },
   "outputs": [
    {
     "data": {
      "text/html": [
       "<div>\n",
       "<style scoped>\n",
       "    .dataframe tbody tr th:only-of-type {\n",
       "        vertical-align: middle;\n",
       "    }\n",
       "\n",
       "    .dataframe tbody tr th {\n",
       "        vertical-align: top;\n",
       "    }\n",
       "\n",
       "    .dataframe thead th {\n",
       "        text-align: right;\n",
       "    }\n",
       "</style>\n",
       "<table border=\"1\" class=\"dataframe\">\n",
       "  <thead>\n",
       "    <tr style=\"text-align: right;\">\n",
       "      <th>var_name</th>\n",
       "      <th>order_id</th>\n",
       "      <th>created_at</th>\n",
       "      <th>items</th>\n",
       "      <th>payment_date</th>\n",
       "      <th>payment_method</th>\n",
       "      <th>payment_status</th>\n",
       "      <th>shipping_status</th>\n",
       "      <th>shipping_status_date</th>\n",
       "      <th>total</th>\n",
       "      <th>user_id</th>\n",
       "    </tr>\n",
       "  </thead>\n",
       "  <tbody>\n",
       "    <tr>\n",
       "      <th>0</th>\n",
       "      <td>order_1</td>\n",
       "      <td>2023-09-09</td>\n",
       "      <td>[{'product_id': 'prod_77', 'quantity': 3}, {'p...</td>\n",
       "      <td>2023-01-11</td>\n",
       "      <td>boleto</td>\n",
       "      <td>pago</td>\n",
       "      <td>enviado</td>\n",
       "      <td>2023/05/27</td>\n",
       "      <td>R$ 2,393,37</td>\n",
       "      <td>user_270</td>\n",
       "    </tr>\n",
       "  </tbody>\n",
       "</table>\n",
       "</div>"
      ],
      "text/plain": [
       "var_name order_id  created_at  \\\n",
       "0         order_1  2023-09-09   \n",
       "\n",
       "var_name                                              items payment_date  \\\n",
       "0         [{'product_id': 'prod_77', 'quantity': 3}, {'p...   2023-01-11   \n",
       "\n",
       "var_name payment_method payment_status shipping_status shipping_status_date  \\\n",
       "0                boleto           pago         enviado           2023/05/27   \n",
       "\n",
       "var_name        total   user_id  \n",
       "0         R$ 2,393,37  user_270  "
      ]
     },
     "execution_count": 3,
     "metadata": {},
     "output_type": "execute_result"
    }
   ],
   "source": [
    "df_wide = df.pivot(index='order_id', columns='var_name', values='var_value').reset_index()\n",
    "df_wide.head(1)"
   ]
  },
  {
   "cell_type": "code",
   "execution_count": 4,
   "id": "91ed095c",
   "metadata": {
    "execution": {
     "iopub.execute_input": "2025-05-19T22:01:30.899842Z",
     "iopub.status.busy": "2025-05-19T22:01:30.899842Z",
     "iopub.status.idle": "2025-05-19T22:01:31.392029Z",
     "shell.execute_reply": "2025-05-19T22:01:31.392029Z"
    },
    "papermill": {
     "duration": 0.50435,
     "end_time": "2025-05-19T22:01:31.396167",
     "exception": false,
     "start_time": "2025-05-19T22:01:30.891817",
     "status": "completed"
    },
    "tags": []
   },
   "outputs": [],
   "source": [
    "import pandas as pd\n",
    "import ast\n",
    "\n",
    "# Supondo que df_wide já esteja carregado\n",
    "df_explode = []\n",
    "\n",
    "for _, row in df_wide.iterrows():\n",
    "    try:\n",
    "        # Tenta converter a string em lista de dicionários\n",
    "        items = ast.literal_eval(row['items']) if pd.notnull(row['items']) else []\n",
    "        \n",
    "        # Se for lista de dicionários, cria nova linha por item\n",
    "        for item in items:\n",
    "            nova_linha = row.copy()\n",
    "            nova_linha['product_id'] = item.get('product_id')\n",
    "            nova_linha['quantity'] = item.get('quantity')\n",
    "            df_explode.append(nova_linha)\n",
    "    \n",
    "    except (ValueError, SyntaxError) as e:\n",
    "        # Caso falhe na conversão, apenas pula a linha\n",
    "        print(f\"Erro ao processar linha com order_id={row['order_id']}: {e}\")"
   ]
  },
  {
   "cell_type": "code",
   "execution_count": 5,
   "id": "00f23e32",
   "metadata": {
    "execution": {
     "iopub.execute_input": "2025-05-19T22:01:31.414017Z",
     "iopub.status.busy": "2025-05-19T22:01:31.412002Z",
     "iopub.status.idle": "2025-05-19T22:01:31.614909Z",
     "shell.execute_reply": "2025-05-19T22:01:31.614392Z"
    },
    "papermill": {
     "duration": 0.218758,
     "end_time": "2025-05-19T22:01:31.620961",
     "exception": false,
     "start_time": "2025-05-19T22:01:31.402203",
     "status": "completed"
    },
    "tags": []
   },
   "outputs": [
    {
     "data": {
      "text/html": [
       "<div>\n",
       "<style scoped>\n",
       "    .dataframe tbody tr th:only-of-type {\n",
       "        vertical-align: middle;\n",
       "    }\n",
       "\n",
       "    .dataframe tbody tr th {\n",
       "        vertical-align: top;\n",
       "    }\n",
       "\n",
       "    .dataframe thead th {\n",
       "        text-align: right;\n",
       "    }\n",
       "</style>\n",
       "<table border=\"1\" class=\"dataframe\">\n",
       "  <thead>\n",
       "    <tr style=\"text-align: right;\">\n",
       "      <th>var_name</th>\n",
       "      <th>order_id</th>\n",
       "      <th>created_at</th>\n",
       "      <th>items</th>\n",
       "      <th>payment_date</th>\n",
       "      <th>payment_method</th>\n",
       "      <th>payment_status</th>\n",
       "      <th>shipping_status</th>\n",
       "      <th>shipping_status_date</th>\n",
       "      <th>total</th>\n",
       "      <th>user_id</th>\n",
       "      <th>product_id</th>\n",
       "      <th>quantity</th>\n",
       "    </tr>\n",
       "  </thead>\n",
       "  <tbody>\n",
       "    <tr>\n",
       "      <th>0</th>\n",
       "      <td>order_1</td>\n",
       "      <td>2023-09-09</td>\n",
       "      <td>[{'product_id': 'prod_77', 'quantity': 3}, {'p...</td>\n",
       "      <td>2023-01-11</td>\n",
       "      <td>boleto</td>\n",
       "      <td>pago</td>\n",
       "      <td>enviado</td>\n",
       "      <td>2023/05/27</td>\n",
       "      <td>R$ 2,393,37</td>\n",
       "      <td>user_270</td>\n",
       "      <td>prod_77</td>\n",
       "      <td>3</td>\n",
       "    </tr>\n",
       "  </tbody>\n",
       "</table>\n",
       "</div>"
      ],
      "text/plain": [
       "var_name order_id  created_at  \\\n",
       "0         order_1  2023-09-09   \n",
       "\n",
       "var_name                                              items payment_date  \\\n",
       "0         [{'product_id': 'prod_77', 'quantity': 3}, {'p...   2023-01-11   \n",
       "\n",
       "var_name payment_method payment_status shipping_status shipping_status_date  \\\n",
       "0                boleto           pago         enviado           2023/05/27   \n",
       "\n",
       "var_name        total   user_id product_id  quantity  \n",
       "0         R$ 2,393,37  user_270    prod_77         3  "
      ]
     },
     "execution_count": 5,
     "metadata": {},
     "output_type": "execute_result"
    }
   ],
   "source": [
    "\n",
    "\n",
    "# Novo DataFrame com os itens explodidos\n",
    "df_final = pd.DataFrame(df_explode)\n",
    "\n",
    "df_final.head(1)"
   ]
  },
  {
   "cell_type": "code",
   "execution_count": 6,
   "id": "a7528b21",
   "metadata": {
    "execution": {
     "iopub.execute_input": "2025-05-19T22:01:31.640298Z",
     "iopub.status.busy": "2025-05-19T22:01:31.640298Z",
     "iopub.status.idle": "2025-05-19T22:01:31.649897Z",
     "shell.execute_reply": "2025-05-19T22:01:31.647884Z"
    },
    "papermill": {
     "duration": 0.018158,
     "end_time": "2025-05-19T22:01:31.649897",
     "exception": false,
     "start_time": "2025-05-19T22:01:31.631739",
     "status": "completed"
    },
    "tags": []
   },
   "outputs": [],
   "source": [
    "# #verifica o q esta dentro da coluna itens\n",
    "# display(df_final['items'].unique())\n"
   ]
  },
  {
   "cell_type": "code",
   "execution_count": 7,
   "id": "5aa0c74d",
   "metadata": {
    "execution": {
     "iopub.execute_input": "2025-05-19T22:01:31.676229Z",
     "iopub.status.busy": "2025-05-19T22:01:31.674216Z",
     "iopub.status.idle": "2025-05-19T22:01:31.694535Z",
     "shell.execute_reply": "2025-05-19T22:01:31.693787Z"
    },
    "papermill": {
     "duration": 0.037353,
     "end_time": "2025-05-19T22:01:31.694535",
     "exception": false,
     "start_time": "2025-05-19T22:01:31.657182",
     "status": "completed"
    },
    "tags": []
   },
   "outputs": [],
   "source": [
    "df_final.drop(columns=['items'], inplace=True)\n"
   ]
  },
  {
   "cell_type": "code",
   "execution_count": 8,
   "id": "9d97b873",
   "metadata": {
    "execution": {
     "iopub.execute_input": "2025-05-19T22:01:31.711378Z",
     "iopub.status.busy": "2025-05-19T22:01:31.711378Z",
     "iopub.status.idle": "2025-05-19T22:01:31.741811Z",
     "shell.execute_reply": "2025-05-19T22:01:31.740499Z"
    },
    "papermill": {
     "duration": 0.041276,
     "end_time": "2025-05-19T22:01:31.745086",
     "exception": false,
     "start_time": "2025-05-19T22:01:31.703810",
     "status": "completed"
    },
    "tags": []
   },
   "outputs": [
    {
     "data": {
      "text/html": [
       "<div>\n",
       "<style scoped>\n",
       "    .dataframe tbody tr th:only-of-type {\n",
       "        vertical-align: middle;\n",
       "    }\n",
       "\n",
       "    .dataframe tbody tr th {\n",
       "        vertical-align: top;\n",
       "    }\n",
       "\n",
       "    .dataframe thead th {\n",
       "        text-align: right;\n",
       "    }\n",
       "</style>\n",
       "<table border=\"1\" class=\"dataframe\">\n",
       "  <thead>\n",
       "    <tr style=\"text-align: right;\">\n",
       "      <th>var_name</th>\n",
       "      <th>order_id</th>\n",
       "      <th>created_at</th>\n",
       "      <th>payment_date</th>\n",
       "      <th>payment_method</th>\n",
       "      <th>payment_status</th>\n",
       "      <th>shipping_status</th>\n",
       "      <th>shipping_status_date</th>\n",
       "      <th>total</th>\n",
       "      <th>user_id</th>\n",
       "      <th>product_id</th>\n",
       "      <th>quantity</th>\n",
       "    </tr>\n",
       "  </thead>\n",
       "  <tbody>\n",
       "    <tr>\n",
       "      <th>0</th>\n",
       "      <td>order_1</td>\n",
       "      <td>2023-09-09</td>\n",
       "      <td>2023-01-11</td>\n",
       "      <td>boleto</td>\n",
       "      <td>pago</td>\n",
       "      <td>enviado</td>\n",
       "      <td>2023/05/27</td>\n",
       "      <td>R$ 2,393,37</td>\n",
       "      <td>user_270</td>\n",
       "      <td>prod_77</td>\n",
       "      <td>3</td>\n",
       "    </tr>\n",
       "  </tbody>\n",
       "</table>\n",
       "</div>"
      ],
      "text/plain": [
       "var_name order_id  created_at payment_date payment_method payment_status  \\\n",
       "0         order_1  2023-09-09   2023-01-11         boleto           pago   \n",
       "\n",
       "var_name shipping_status shipping_status_date        total   user_id  \\\n",
       "0                enviado           2023/05/27  R$ 2,393,37  user_270   \n",
       "\n",
       "var_name product_id  quantity  \n",
       "0           prod_77         3  "
      ]
     },
     "execution_count": 8,
     "metadata": {},
     "output_type": "execute_result"
    }
   ],
   "source": [
    "df_final.head(1)"
   ]
  },
  {
   "cell_type": "code",
   "execution_count": 9,
   "id": "991f57af",
   "metadata": {
    "execution": {
     "iopub.execute_input": "2025-05-19T22:01:31.761869Z",
     "iopub.status.busy": "2025-05-19T22:01:31.761869Z",
     "iopub.status.idle": "2025-05-19T22:01:31.788114Z",
     "shell.execute_reply": "2025-05-19T22:01:31.788114Z"
    },
    "papermill": {
     "duration": 0.040863,
     "end_time": "2025-05-19T22:01:31.791981",
     "exception": false,
     "start_time": "2025-05-19T22:01:31.751118",
     "status": "completed"
    },
    "tags": []
   },
   "outputs": [
    {
     "name": "stdout",
     "output_type": "stream",
     "text": [
      "<class 'pandas.core.frame.DataFrame'>\n",
      "Int64Index: 753 entries, 0 to 299\n",
      "Data columns (total 11 columns):\n",
      " #   Column                Non-Null Count  Dtype \n",
      "---  ------                --------------  ----- \n",
      " 0   order_id              753 non-null    object\n",
      " 1   created_at            753 non-null    object\n",
      " 2   payment_date          270 non-null    object\n",
      " 3   payment_method        270 non-null    object\n",
      " 4   payment_status        753 non-null    object\n",
      " 5   shipping_status       753 non-null    object\n",
      " 6   shipping_status_date  753 non-null    object\n",
      " 7   total                 753 non-null    object\n",
      " 8   user_id               753 non-null    object\n",
      " 9   product_id            753 non-null    object\n",
      " 10  quantity              753 non-null    int64 \n",
      "dtypes: int64(1), object(10)\n",
      "memory usage: 70.6+ KB\n",
      "None\n"
     ]
    }
   ],
   "source": [
    "print(df_final.info())\n"
   ]
  },
  {
   "cell_type": "code",
   "execution_count": 10,
   "id": "74b28c3d",
   "metadata": {
    "execution": {
     "iopub.execute_input": "2025-05-19T22:01:31.810568Z",
     "iopub.status.busy": "2025-05-19T22:01:31.810057Z",
     "iopub.status.idle": "2025-05-19T22:01:31.834345Z",
     "shell.execute_reply": "2025-05-19T22:01:31.834345Z"
    },
    "papermill": {
     "duration": 0.042295,
     "end_time": "2025-05-19T22:01:31.838300",
     "exception": false,
     "start_time": "2025-05-19T22:01:31.796005",
     "status": "completed"
    },
    "tags": []
   },
   "outputs": [],
   "source": [
    "colunas_data = ['created_at', 'payment_date', 'shipping_status_date']\n",
    "for col in colunas_data:\n",
    "    df_final[col] = pd.to_datetime(df_final[col], errors='coerce', dayfirst=True)\n"
   ]
  },
  {
   "cell_type": "code",
   "execution_count": 11,
   "id": "04db1365",
   "metadata": {
    "execution": {
     "iopub.execute_input": "2025-05-19T22:01:31.854075Z",
     "iopub.status.busy": "2025-05-19T22:01:31.854075Z",
     "iopub.status.idle": "2025-05-19T22:01:31.885904Z",
     "shell.execute_reply": "2025-05-19T22:01:31.884382Z"
    },
    "papermill": {
     "duration": 0.044315,
     "end_time": "2025-05-19T22:01:31.888647",
     "exception": false,
     "start_time": "2025-05-19T22:01:31.844332",
     "status": "completed"
    },
    "tags": []
   },
   "outputs": [
    {
     "data": {
      "text/html": [
       "<div>\n",
       "<style scoped>\n",
       "    .dataframe tbody tr th:only-of-type {\n",
       "        vertical-align: middle;\n",
       "    }\n",
       "\n",
       "    .dataframe tbody tr th {\n",
       "        vertical-align: top;\n",
       "    }\n",
       "\n",
       "    .dataframe thead th {\n",
       "        text-align: right;\n",
       "    }\n",
       "</style>\n",
       "<table border=\"1\" class=\"dataframe\">\n",
       "  <thead>\n",
       "    <tr style=\"text-align: right;\">\n",
       "      <th>var_name</th>\n",
       "      <th>order_id</th>\n",
       "      <th>created_at</th>\n",
       "      <th>payment_date</th>\n",
       "      <th>payment_method</th>\n",
       "      <th>payment_status</th>\n",
       "      <th>shipping_status</th>\n",
       "      <th>shipping_status_date</th>\n",
       "      <th>total</th>\n",
       "      <th>user_id</th>\n",
       "      <th>product_id</th>\n",
       "      <th>quantity</th>\n",
       "    </tr>\n",
       "  </thead>\n",
       "  <tbody>\n",
       "    <tr>\n",
       "      <th>0</th>\n",
       "      <td>order_1</td>\n",
       "      <td>2023-09-09</td>\n",
       "      <td>2023-01-11</td>\n",
       "      <td>boleto</td>\n",
       "      <td>pago</td>\n",
       "      <td>enviado</td>\n",
       "      <td>2023-05-27</td>\n",
       "      <td>R$ 2,393,37</td>\n",
       "      <td>user_270</td>\n",
       "      <td>prod_77</td>\n",
       "      <td>3</td>\n",
       "    </tr>\n",
       "  </tbody>\n",
       "</table>\n",
       "</div>"
      ],
      "text/plain": [
       "var_name order_id created_at payment_date payment_method payment_status  \\\n",
       "0         order_1 2023-09-09   2023-01-11         boleto           pago   \n",
       "\n",
       "var_name shipping_status shipping_status_date        total   user_id  \\\n",
       "0                enviado           2023-05-27  R$ 2,393,37  user_270   \n",
       "\n",
       "var_name product_id  quantity  \n",
       "0           prod_77         3  "
      ]
     },
     "execution_count": 11,
     "metadata": {},
     "output_type": "execute_result"
    }
   ],
   "source": [
    "df_final.head(1)"
   ]
  },
  {
   "cell_type": "code",
   "execution_count": 12,
   "id": "0c6c4de9",
   "metadata": {
    "execution": {
     "iopub.execute_input": "2025-05-19T22:01:31.907783Z",
     "iopub.status.busy": "2025-05-19T22:01:31.907783Z",
     "iopub.status.idle": "2025-05-19T22:01:31.929490Z",
     "shell.execute_reply": "2025-05-19T22:01:31.929490Z"
    },
    "papermill": {
     "duration": 0.029732,
     "end_time": "2025-05-19T22:01:31.929490",
     "exception": false,
     "start_time": "2025-05-19T22:01:31.899758",
     "status": "completed"
    },
    "tags": []
   },
   "outputs": [
    {
     "name": "stdout",
     "output_type": "stream",
     "text": [
      "<class 'pandas.core.frame.DataFrame'>\n",
      "Int64Index: 753 entries, 0 to 299\n",
      "Data columns (total 11 columns):\n",
      " #   Column                Non-Null Count  Dtype         \n",
      "---  ------                --------------  -----         \n",
      " 0   order_id              753 non-null    object        \n",
      " 1   created_at            753 non-null    datetime64[ns]\n",
      " 2   payment_date          270 non-null    datetime64[ns]\n",
      " 3   payment_method        270 non-null    object        \n",
      " 4   payment_status        753 non-null    object        \n",
      " 5   shipping_status       753 non-null    object        \n",
      " 6   shipping_status_date  753 non-null    datetime64[ns]\n",
      " 7   total                 753 non-null    object        \n",
      " 8   user_id               753 non-null    object        \n",
      " 9   product_id            753 non-null    object        \n",
      " 10  quantity              753 non-null    int64         \n",
      "dtypes: datetime64[ns](3), int64(1), object(7)\n",
      "memory usage: 70.6+ KB\n",
      "None\n"
     ]
    }
   ],
   "source": [
    "print(df_final.info())\n"
   ]
  },
  {
   "cell_type": "markdown",
   "id": "350844ab",
   "metadata": {
    "tags": [
     "papermill-error-cell-tag"
    ]
   },
   "source": [
    "<span id=\"papermill-error-cell\" style=\"color:red; font-family:Helvetica Neue, Helvetica, Arial, sans-serif; font-size:2em;\">Execution using papermill encountered an exception here and stopped:</span>"
   ]
  },
  {
   "cell_type": "code",
   "execution_count": 13,
   "id": "a0db3420",
   "metadata": {
    "execution": {
     "iopub.execute_input": "2025-05-19T22:01:31.948466Z",
     "iopub.status.busy": "2025-05-19T22:01:31.948466Z",
     "iopub.status.idle": "2025-05-19T22:01:32.308935Z",
     "shell.execute_reply": "2025-05-19T22:01:32.308935Z"
    },
    "papermill": {
     "duration": 0.370795,
     "end_time": "2025-05-19T22:01:32.311846",
     "exception": true,
     "start_time": "2025-05-19T22:01:31.941051",
     "status": "failed"
    },
    "tags": []
   },
   "outputs": [
    {
     "ename": "ValueError",
     "evalue": "could not convert string to float: ' 2.393.37'",
     "output_type": "error",
     "traceback": [
      "\u001b[1;31m---------------------------------------------------------------------------\u001b[0m",
      "\u001b[1;31mValueError\u001b[0m                                Traceback (most recent call last)",
      "\u001b[1;32m~\\AppData\\Local\\Temp\\ipykernel_7120\\3793254083.py\u001b[0m in \u001b[0;36m<module>\u001b[1;34m\u001b[0m\n\u001b[0;32m      3\u001b[0m \u001b[0mdf_final\u001b[0m\u001b[1;33m[\u001b[0m\u001b[1;34m'total'\u001b[0m\u001b[1;33m]\u001b[0m\u001b[1;33m.\u001b[0m\u001b[0mreplace\u001b[0m\u001b[1;33m(\u001b[0m\u001b[1;34m'\\.'\u001b[0m\u001b[1;33m,\u001b[0m \u001b[1;34m''\u001b[0m\u001b[1;33m,\u001b[0m \u001b[0mregex\u001b[0m\u001b[1;33m=\u001b[0m\u001b[1;32mTrue\u001b[0m\u001b[1;33m,\u001b[0m \u001b[0minplace\u001b[0m\u001b[1;33m=\u001b[0m\u001b[1;32mTrue\u001b[0m\u001b[1;33m)\u001b[0m        \u001b[1;31m# Remove ponto (milhar)\u001b[0m\u001b[1;33m\u001b[0m\u001b[1;33m\u001b[0m\u001b[0m\n\u001b[0;32m      4\u001b[0m \u001b[0mdf_final\u001b[0m\u001b[1;33m[\u001b[0m\u001b[1;34m'total'\u001b[0m\u001b[1;33m]\u001b[0m\u001b[1;33m.\u001b[0m\u001b[0mreplace\u001b[0m\u001b[1;33m(\u001b[0m\u001b[1;34m','\u001b[0m\u001b[1;33m,\u001b[0m \u001b[1;34m'.'\u001b[0m\u001b[1;33m,\u001b[0m \u001b[0mregex\u001b[0m\u001b[1;33m=\u001b[0m\u001b[1;32mTrue\u001b[0m\u001b[1;33m,\u001b[0m \u001b[0minplace\u001b[0m\u001b[1;33m=\u001b[0m\u001b[1;32mTrue\u001b[0m\u001b[1;33m)\u001b[0m        \u001b[1;31m# Troca vírgula decimal por ponto\u001b[0m\u001b[1;33m\u001b[0m\u001b[1;33m\u001b[0m\u001b[0m\n\u001b[1;32m----> 5\u001b[1;33m \u001b[0mdf_final\u001b[0m\u001b[1;33m[\u001b[0m\u001b[1;34m'total'\u001b[0m\u001b[1;33m]\u001b[0m \u001b[1;33m=\u001b[0m \u001b[0mdf_final\u001b[0m\u001b[1;33m[\u001b[0m\u001b[1;34m'total'\u001b[0m\u001b[1;33m]\u001b[0m\u001b[1;33m.\u001b[0m\u001b[0mastype\u001b[0m\u001b[1;33m(\u001b[0m\u001b[0mfloat\u001b[0m\u001b[1;33m)\u001b[0m\u001b[1;33m\u001b[0m\u001b[1;33m\u001b[0m\u001b[0m\n\u001b[0m",
      "\u001b[1;32m~\\anaconda3\\lib\\site-packages\\pandas\\core\\generic.py\u001b[0m in \u001b[0;36mastype\u001b[1;34m(self, dtype, copy, errors)\u001b[0m\n\u001b[0;32m   5910\u001b[0m         \u001b[1;32melse\u001b[0m\u001b[1;33m:\u001b[0m\u001b[1;33m\u001b[0m\u001b[1;33m\u001b[0m\u001b[0m\n\u001b[0;32m   5911\u001b[0m             \u001b[1;31m# else, only a single dtype is given\u001b[0m\u001b[1;33m\u001b[0m\u001b[1;33m\u001b[0m\u001b[0m\n\u001b[1;32m-> 5912\u001b[1;33m             \u001b[0mnew_data\u001b[0m \u001b[1;33m=\u001b[0m \u001b[0mself\u001b[0m\u001b[1;33m.\u001b[0m\u001b[0m_mgr\u001b[0m\u001b[1;33m.\u001b[0m\u001b[0mastype\u001b[0m\u001b[1;33m(\u001b[0m\u001b[0mdtype\u001b[0m\u001b[1;33m=\u001b[0m\u001b[0mdtype\u001b[0m\u001b[1;33m,\u001b[0m \u001b[0mcopy\u001b[0m\u001b[1;33m=\u001b[0m\u001b[0mcopy\u001b[0m\u001b[1;33m,\u001b[0m \u001b[0merrors\u001b[0m\u001b[1;33m=\u001b[0m\u001b[0merrors\u001b[0m\u001b[1;33m)\u001b[0m\u001b[1;33m\u001b[0m\u001b[1;33m\u001b[0m\u001b[0m\n\u001b[0m\u001b[0;32m   5913\u001b[0m             \u001b[1;32mreturn\u001b[0m \u001b[0mself\u001b[0m\u001b[1;33m.\u001b[0m\u001b[0m_constructor\u001b[0m\u001b[1;33m(\u001b[0m\u001b[0mnew_data\u001b[0m\u001b[1;33m)\u001b[0m\u001b[1;33m.\u001b[0m\u001b[0m__finalize__\u001b[0m\u001b[1;33m(\u001b[0m\u001b[0mself\u001b[0m\u001b[1;33m,\u001b[0m \u001b[0mmethod\u001b[0m\u001b[1;33m=\u001b[0m\u001b[1;34m\"astype\"\u001b[0m\u001b[1;33m)\u001b[0m\u001b[1;33m\u001b[0m\u001b[1;33m\u001b[0m\u001b[0m\n\u001b[0;32m   5914\u001b[0m \u001b[1;33m\u001b[0m\u001b[0m\n",
      "\u001b[1;32m~\\anaconda3\\lib\\site-packages\\pandas\\core\\internals\\managers.py\u001b[0m in \u001b[0;36mastype\u001b[1;34m(self, dtype, copy, errors)\u001b[0m\n\u001b[0;32m    417\u001b[0m \u001b[1;33m\u001b[0m\u001b[0m\n\u001b[0;32m    418\u001b[0m     \u001b[1;32mdef\u001b[0m \u001b[0mastype\u001b[0m\u001b[1;33m(\u001b[0m\u001b[0mself\u001b[0m\u001b[1;33m:\u001b[0m \u001b[0mT\u001b[0m\u001b[1;33m,\u001b[0m \u001b[0mdtype\u001b[0m\u001b[1;33m,\u001b[0m \u001b[0mcopy\u001b[0m\u001b[1;33m:\u001b[0m \u001b[0mbool\u001b[0m \u001b[1;33m=\u001b[0m \u001b[1;32mFalse\u001b[0m\u001b[1;33m,\u001b[0m \u001b[0merrors\u001b[0m\u001b[1;33m:\u001b[0m \u001b[0mstr\u001b[0m \u001b[1;33m=\u001b[0m \u001b[1;34m\"raise\"\u001b[0m\u001b[1;33m)\u001b[0m \u001b[1;33m->\u001b[0m \u001b[0mT\u001b[0m\u001b[1;33m:\u001b[0m\u001b[1;33m\u001b[0m\u001b[1;33m\u001b[0m\u001b[0m\n\u001b[1;32m--> 419\u001b[1;33m         \u001b[1;32mreturn\u001b[0m \u001b[0mself\u001b[0m\u001b[1;33m.\u001b[0m\u001b[0mapply\u001b[0m\u001b[1;33m(\u001b[0m\u001b[1;34m\"astype\"\u001b[0m\u001b[1;33m,\u001b[0m \u001b[0mdtype\u001b[0m\u001b[1;33m=\u001b[0m\u001b[0mdtype\u001b[0m\u001b[1;33m,\u001b[0m \u001b[0mcopy\u001b[0m\u001b[1;33m=\u001b[0m\u001b[0mcopy\u001b[0m\u001b[1;33m,\u001b[0m \u001b[0merrors\u001b[0m\u001b[1;33m=\u001b[0m\u001b[0merrors\u001b[0m\u001b[1;33m)\u001b[0m\u001b[1;33m\u001b[0m\u001b[1;33m\u001b[0m\u001b[0m\n\u001b[0m\u001b[0;32m    420\u001b[0m \u001b[1;33m\u001b[0m\u001b[0m\n\u001b[0;32m    421\u001b[0m     def convert(\n",
      "\u001b[1;32m~\\anaconda3\\lib\\site-packages\\pandas\\core\\internals\\managers.py\u001b[0m in \u001b[0;36mapply\u001b[1;34m(self, f, align_keys, ignore_failures, **kwargs)\u001b[0m\n\u001b[0;32m    302\u001b[0m                     \u001b[0mapplied\u001b[0m \u001b[1;33m=\u001b[0m \u001b[0mb\u001b[0m\u001b[1;33m.\u001b[0m\u001b[0mapply\u001b[0m\u001b[1;33m(\u001b[0m\u001b[0mf\u001b[0m\u001b[1;33m,\u001b[0m \u001b[1;33m**\u001b[0m\u001b[0mkwargs\u001b[0m\u001b[1;33m)\u001b[0m\u001b[1;33m\u001b[0m\u001b[1;33m\u001b[0m\u001b[0m\n\u001b[0;32m    303\u001b[0m                 \u001b[1;32melse\u001b[0m\u001b[1;33m:\u001b[0m\u001b[1;33m\u001b[0m\u001b[1;33m\u001b[0m\u001b[0m\n\u001b[1;32m--> 304\u001b[1;33m                     \u001b[0mapplied\u001b[0m \u001b[1;33m=\u001b[0m \u001b[0mgetattr\u001b[0m\u001b[1;33m(\u001b[0m\u001b[0mb\u001b[0m\u001b[1;33m,\u001b[0m \u001b[0mf\u001b[0m\u001b[1;33m)\u001b[0m\u001b[1;33m(\u001b[0m\u001b[1;33m**\u001b[0m\u001b[0mkwargs\u001b[0m\u001b[1;33m)\u001b[0m\u001b[1;33m\u001b[0m\u001b[1;33m\u001b[0m\u001b[0m\n\u001b[0m\u001b[0;32m    305\u001b[0m             \u001b[1;32mexcept\u001b[0m \u001b[1;33m(\u001b[0m\u001b[0mTypeError\u001b[0m\u001b[1;33m,\u001b[0m \u001b[0mNotImplementedError\u001b[0m\u001b[1;33m)\u001b[0m\u001b[1;33m:\u001b[0m\u001b[1;33m\u001b[0m\u001b[1;33m\u001b[0m\u001b[0m\n\u001b[0;32m    306\u001b[0m                 \u001b[1;32mif\u001b[0m \u001b[1;32mnot\u001b[0m \u001b[0mignore_failures\u001b[0m\u001b[1;33m:\u001b[0m\u001b[1;33m\u001b[0m\u001b[1;33m\u001b[0m\u001b[0m\n",
      "\u001b[1;32m~\\anaconda3\\lib\\site-packages\\pandas\\core\\internals\\blocks.py\u001b[0m in \u001b[0;36mastype\u001b[1;34m(self, dtype, copy, errors)\u001b[0m\n\u001b[0;32m    578\u001b[0m         \u001b[0mvalues\u001b[0m \u001b[1;33m=\u001b[0m \u001b[0mself\u001b[0m\u001b[1;33m.\u001b[0m\u001b[0mvalues\u001b[0m\u001b[1;33m\u001b[0m\u001b[1;33m\u001b[0m\u001b[0m\n\u001b[0;32m    579\u001b[0m \u001b[1;33m\u001b[0m\u001b[0m\n\u001b[1;32m--> 580\u001b[1;33m         \u001b[0mnew_values\u001b[0m \u001b[1;33m=\u001b[0m \u001b[0mastype_array_safe\u001b[0m\u001b[1;33m(\u001b[0m\u001b[0mvalues\u001b[0m\u001b[1;33m,\u001b[0m \u001b[0mdtype\u001b[0m\u001b[1;33m,\u001b[0m \u001b[0mcopy\u001b[0m\u001b[1;33m=\u001b[0m\u001b[0mcopy\u001b[0m\u001b[1;33m,\u001b[0m \u001b[0merrors\u001b[0m\u001b[1;33m=\u001b[0m\u001b[0merrors\u001b[0m\u001b[1;33m)\u001b[0m\u001b[1;33m\u001b[0m\u001b[1;33m\u001b[0m\u001b[0m\n\u001b[0m\u001b[0;32m    581\u001b[0m \u001b[1;33m\u001b[0m\u001b[0m\n\u001b[0;32m    582\u001b[0m         \u001b[0mnew_values\u001b[0m \u001b[1;33m=\u001b[0m \u001b[0mmaybe_coerce_values\u001b[0m\u001b[1;33m(\u001b[0m\u001b[0mnew_values\u001b[0m\u001b[1;33m)\u001b[0m\u001b[1;33m\u001b[0m\u001b[1;33m\u001b[0m\u001b[0m\n",
      "\u001b[1;32m~\\anaconda3\\lib\\site-packages\\pandas\\core\\dtypes\\cast.py\u001b[0m in \u001b[0;36mastype_array_safe\u001b[1;34m(values, dtype, copy, errors)\u001b[0m\n\u001b[0;32m   1290\u001b[0m \u001b[1;33m\u001b[0m\u001b[0m\n\u001b[0;32m   1291\u001b[0m     \u001b[1;32mtry\u001b[0m\u001b[1;33m:\u001b[0m\u001b[1;33m\u001b[0m\u001b[1;33m\u001b[0m\u001b[0m\n\u001b[1;32m-> 1292\u001b[1;33m         \u001b[0mnew_values\u001b[0m \u001b[1;33m=\u001b[0m \u001b[0mastype_array\u001b[0m\u001b[1;33m(\u001b[0m\u001b[0mvalues\u001b[0m\u001b[1;33m,\u001b[0m \u001b[0mdtype\u001b[0m\u001b[1;33m,\u001b[0m \u001b[0mcopy\u001b[0m\u001b[1;33m=\u001b[0m\u001b[0mcopy\u001b[0m\u001b[1;33m)\u001b[0m\u001b[1;33m\u001b[0m\u001b[1;33m\u001b[0m\u001b[0m\n\u001b[0m\u001b[0;32m   1293\u001b[0m     \u001b[1;32mexcept\u001b[0m \u001b[1;33m(\u001b[0m\u001b[0mValueError\u001b[0m\u001b[1;33m,\u001b[0m \u001b[0mTypeError\u001b[0m\u001b[1;33m)\u001b[0m\u001b[1;33m:\u001b[0m\u001b[1;33m\u001b[0m\u001b[1;33m\u001b[0m\u001b[0m\n\u001b[0;32m   1294\u001b[0m         \u001b[1;31m# e.g. astype_nansafe can fail on object-dtype of strings\u001b[0m\u001b[1;33m\u001b[0m\u001b[1;33m\u001b[0m\u001b[0m\n",
      "\u001b[1;32m~\\anaconda3\\lib\\site-packages\\pandas\\core\\dtypes\\cast.py\u001b[0m in \u001b[0;36mastype_array\u001b[1;34m(values, dtype, copy)\u001b[0m\n\u001b[0;32m   1235\u001b[0m \u001b[1;33m\u001b[0m\u001b[0m\n\u001b[0;32m   1236\u001b[0m     \u001b[1;32melse\u001b[0m\u001b[1;33m:\u001b[0m\u001b[1;33m\u001b[0m\u001b[1;33m\u001b[0m\u001b[0m\n\u001b[1;32m-> 1237\u001b[1;33m         \u001b[0mvalues\u001b[0m \u001b[1;33m=\u001b[0m \u001b[0mastype_nansafe\u001b[0m\u001b[1;33m(\u001b[0m\u001b[0mvalues\u001b[0m\u001b[1;33m,\u001b[0m \u001b[0mdtype\u001b[0m\u001b[1;33m,\u001b[0m \u001b[0mcopy\u001b[0m\u001b[1;33m=\u001b[0m\u001b[0mcopy\u001b[0m\u001b[1;33m)\u001b[0m\u001b[1;33m\u001b[0m\u001b[1;33m\u001b[0m\u001b[0m\n\u001b[0m\u001b[0;32m   1238\u001b[0m \u001b[1;33m\u001b[0m\u001b[0m\n\u001b[0;32m   1239\u001b[0m     \u001b[1;31m# in pandas we don't store numpy str dtypes, so convert to object\u001b[0m\u001b[1;33m\u001b[0m\u001b[1;33m\u001b[0m\u001b[0m\n",
      "\u001b[1;32m~\\anaconda3\\lib\\site-packages\\pandas\\core\\dtypes\\cast.py\u001b[0m in \u001b[0;36mastype_nansafe\u001b[1;34m(arr, dtype, copy, skipna)\u001b[0m\n\u001b[0;32m   1179\u001b[0m     \u001b[1;32mif\u001b[0m \u001b[0mcopy\u001b[0m \u001b[1;32mor\u001b[0m \u001b[0mis_object_dtype\u001b[0m\u001b[1;33m(\u001b[0m\u001b[0marr\u001b[0m\u001b[1;33m.\u001b[0m\u001b[0mdtype\u001b[0m\u001b[1;33m)\u001b[0m \u001b[1;32mor\u001b[0m \u001b[0mis_object_dtype\u001b[0m\u001b[1;33m(\u001b[0m\u001b[0mdtype\u001b[0m\u001b[1;33m)\u001b[0m\u001b[1;33m:\u001b[0m\u001b[1;33m\u001b[0m\u001b[1;33m\u001b[0m\u001b[0m\n\u001b[0;32m   1180\u001b[0m         \u001b[1;31m# Explicit copy, or required since NumPy can't view from / to object.\u001b[0m\u001b[1;33m\u001b[0m\u001b[1;33m\u001b[0m\u001b[0m\n\u001b[1;32m-> 1181\u001b[1;33m         \u001b[1;32mreturn\u001b[0m \u001b[0marr\u001b[0m\u001b[1;33m.\u001b[0m\u001b[0mastype\u001b[0m\u001b[1;33m(\u001b[0m\u001b[0mdtype\u001b[0m\u001b[1;33m,\u001b[0m \u001b[0mcopy\u001b[0m\u001b[1;33m=\u001b[0m\u001b[1;32mTrue\u001b[0m\u001b[1;33m)\u001b[0m\u001b[1;33m\u001b[0m\u001b[1;33m\u001b[0m\u001b[0m\n\u001b[0m\u001b[0;32m   1182\u001b[0m \u001b[1;33m\u001b[0m\u001b[0m\n\u001b[0;32m   1183\u001b[0m     \u001b[1;32mreturn\u001b[0m \u001b[0marr\u001b[0m\u001b[1;33m.\u001b[0m\u001b[0mastype\u001b[0m\u001b[1;33m(\u001b[0m\u001b[0mdtype\u001b[0m\u001b[1;33m,\u001b[0m \u001b[0mcopy\u001b[0m\u001b[1;33m=\u001b[0m\u001b[0mcopy\u001b[0m\u001b[1;33m)\u001b[0m\u001b[1;33m\u001b[0m\u001b[1;33m\u001b[0m\u001b[0m\n",
      "\u001b[1;31mValueError\u001b[0m: could not convert string to float: ' 2.393.37'"
     ]
    }
   ],
   "source": [
    "# 2. Limpar coluna \"total\" e converter para float\n",
    "df_final['total'].replace('R\\$', '', regex=True, inplace=True)       # Remove \"R$\"\n",
    "df_final['total'].replace('\\.', '', regex=True, inplace=True)        # Remove ponto (milhar)\n",
    "df_final['total'].replace(',', '.', regex=True, inplace=True)        # Troca vírgula decimal por ponto\n",
    "df_final['total'] = df_final['total'].astype(float)   "
   ]
  },
  {
   "cell_type": "code",
   "execution_count": null,
   "id": "9a75a537",
   "metadata": {
    "papermill": {
     "duration": null,
     "end_time": null,
     "exception": null,
     "start_time": null,
     "status": "pending"
    },
    "tags": []
   },
   "outputs": [],
   "source": [
    "print(df_final.info())\n"
   ]
  },
  {
   "cell_type": "code",
   "execution_count": null,
   "id": "d3079f91",
   "metadata": {
    "papermill": {
     "duration": null,
     "end_time": null,
     "exception": null,
     "start_time": null,
     "status": "pending"
    },
    "tags": []
   },
   "outputs": [],
   "source": [
    "df_final.head(100)"
   ]
  },
  {
   "cell_type": "code",
   "execution_count": null,
   "id": "47c1d064",
   "metadata": {
    "papermill": {
     "duration": null,
     "end_time": null,
     "exception": null,
     "start_time": null,
     "status": "pending"
    },
    "tags": []
   },
   "outputs": [],
   "source": [
    "df_final.to_csv(\"pedidos_tratado.csv\", index=False)\n"
   ]
  },
  {
   "cell_type": "code",
   "execution_count": null,
   "id": "816db08c",
   "metadata": {
    "papermill": {
     "duration": null,
     "end_time": null,
     "exception": null,
     "start_time": null,
     "status": "pending"
    },
    "tags": []
   },
   "outputs": [],
   "source": []
  }
 ],
 "metadata": {
  "kernelspec": {
   "display_name": "base",
   "language": "python",
   "name": "python3"
  },
  "language_info": {
   "codemirror_mode": {
    "name": "ipython",
    "version": 3
   },
   "file_extension": ".py",
   "mimetype": "text/x-python",
   "name": "python",
   "nbconvert_exporter": "python",
   "pygments_lexer": "ipython3",
   "version": "3.9.13"
  },
  "papermill": {
   "default_parameters": {},
   "duration": 5.618839,
   "end_time": "2025-05-19T22:01:32.776074",
   "environment_variables": {},
   "exception": true,
   "input_path": "pedidos.ipynb",
   "output_path": "output_pedidos.ipynb",
   "parameters": {},
   "start_time": "2025-05-19T22:01:27.157235",
   "version": "2.6.0"
  }
 },
 "nbformat": 4,
 "nbformat_minor": 5
}